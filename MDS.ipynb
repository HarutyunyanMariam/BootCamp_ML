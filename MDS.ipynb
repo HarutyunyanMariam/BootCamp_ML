{
 "cells": [
  {
   "cell_type": "code",
   "execution_count": 1,
   "id": "30404bff",
   "metadata": {},
   "outputs": [],
   "source": [
    "from sklearn.metrics import pairwise_distances\n",
    "import numpy as np"
   ]
  },
  {
   "cell_type": "code",
   "execution_count": 2,
   "id": "91cd3655",
   "metadata": {},
   "outputs": [],
   "source": [
    "class MDS_:\n",
    "    def __init__(self, n_components=2, lr=1e-3, max_iter=300):\n",
    "        self._n_components = n_components\n",
    "        self._lr = lr\n",
    "        self._max_iter = max_iter\n",
    "\n",
    "        self._x_distances = None\n",
    "        self._b_matrix = None\n",
    "        self._v_matrix = None\n",
    "        self._z_matrix = None\n",
    "\n",
    "    def stress(self):\n",
    "        \"\"\"\n",
    "        Compute the stress\n",
    "        \"\"\"\n",
    "        z_distances = pairwise_distances(self._z_matrix)\n",
    "        s = 0\n",
    "        \n",
    "        for i in range(self._size):\n",
    "             for j in range(0,i):\n",
    "                    s += (z_distances[i][j] - self._x_distances[i][j])**2\n",
    "                 \n",
    "        return np.sqrt(s)   \n",
    "\n",
    "    def _compute_gradient(self):\n",
    "        \"\"\"\n",
    "        Compute the gradient\n",
    "\n",
    "        TODO: implement\n",
    "        \"\"\"\n",
    "        return  2*self._v_matrix@self._z_matrix -2*self._b_matrix@self._z_matrix\n",
    "    \n",
    "    def _compute_v_matrix(self):\n",
    "        \"\"\"\n",
    "        TODO: implement\n",
    "        \"\"\"\n",
    "        matrix = np.array([-1 for i in range(self._size) for j in range(self._size)]).reshape(self._size,self._size)\n",
    "        np.fill_diagonal(matrix,self._size - 1)\n",
    "        \n",
    "        return matrix\n",
    "\n",
    "    def _compute_b_matrix(self):\n",
    "        \"\"\"\n",
    "        TODO: implement\n",
    "        \"\"\"\n",
    "        \n",
    "        z_distances = pairwise_distances(self._z_matrix)\n",
    "        matrix = np.zeros((self._size, self._size))\n",
    "        \n",
    "        for i in range(self._size):\n",
    "            for j in range(self._size):\n",
    "                if i != j and z_distances[i][j] != 0:\n",
    "                    matrix[i][j] =  -self._x_distances[i][j]/z_distances[i][j]\n",
    "                    \n",
    "        diag = matrix.sum(axis=1)\n",
    "        diag *= -1\n",
    "        np.fill_diagonal(matrix,diag)\n",
    "        \n",
    "        self._b_matrix = matrix\n",
    "            \n",
    "       \n",
    "    def fit_transform(self, x):\n",
    "        self._size, _ = x.shape\n",
    "        self._x_distances = pairwise_distances(x)\n",
    "        self._z_matrix = np.random.random(self._size * self._n_components).reshape((self._size, self._n_components))  # compute via x\n",
    "        self._v_matrix = self._compute_v_matrix() \n",
    "        \n",
    "        for _ in range(self._max_iter):\n",
    "            self._compute_b_matrix()\n",
    "            self._z_matrix -= self._lr * self._compute_gradient()\n",
    "        \n",
    "        return self._z_matrix\n"
   ]
  },
  {
   "cell_type": "code",
   "execution_count": 3,
   "id": "306cef01",
   "metadata": {},
   "outputs": [],
   "source": [
    "import pandas as pd\n",
    "url = \"https://archive.ics.uci.edu/ml/machine-learning-databases/iris/iris.data\"\n",
    "# load dataset into Pandas DataFrame\n",
    "df = pd.read_csv(url, names=['sepal length','sepal width','petal length','petal width','target'])\n"
   ]
  },
  {
   "cell_type": "code",
   "execution_count": 4,
   "id": "bdf05516",
   "metadata": {},
   "outputs": [],
   "source": [
    "from sklearn.preprocessing import StandardScaler\n",
    "features = ['sepal length', 'sepal width', 'petal length', 'petal width']\n",
    "# Separating out the features\n",
    "x = df.loc[:, features].values\n",
    "# Separating out the target\n",
    "y = df.loc[:,['target']].values\n",
    "# Standardizing the features\n",
    "x = StandardScaler().fit_transform(x)"
   ]
  },
  {
   "cell_type": "code",
   "execution_count": 5,
   "id": "ed025bf3",
   "metadata": {},
   "outputs": [],
   "source": [
    "model = MDS_()\n",
    "principalComponents = model.fit_transform(x)\n",
    "principalDf = pd.DataFrame(data = principalComponents\n",
    "             , columns = ['principal component 1', 'principal component 2'])"
   ]
  },
  {
   "cell_type": "code",
   "execution_count": 6,
   "id": "392f20ca",
   "metadata": {},
   "outputs": [
    {
     "data": {
      "text/plain": [
       "23.832858089881714"
      ]
     },
     "execution_count": 6,
     "metadata": {},
     "output_type": "execute_result"
    }
   ],
   "source": [
    "model.stress()"
   ]
  },
  {
   "cell_type": "code",
   "execution_count": 7,
   "id": "5bc7e292",
   "metadata": {},
   "outputs": [],
   "source": [
    "finalDf = pd.concat([principalDf, df[['target']]], axis = 1)"
   ]
  },
  {
   "cell_type": "code",
   "execution_count": 8,
   "id": "43deebbb",
   "metadata": {},
   "outputs": [
    {
     "data": {
      "image/png": "[encoded data removed]",
      "text/plain": [
       "<Figure size 576x576 with 1 Axes>"
      ]
     },
     "metadata": {
      "needs_background": "light"
     },
     "output_type": "display_data"
    }
   ],
   "source": [
    "import matplotlib.pyplot as plt\n",
    "fig = plt.figure(figsize = (8,8))\n",
    "ax = fig.add_subplot(1,1,1) \n",
    "ax.set_xlabel('Principal Component 1', fontsize = 15)\n",
    "ax.set_ylabel('Principal Component 2', fontsize = 15)\n",
    "ax.set_title('2 component Mds', fontsize = 20)\n",
    "targets = ['Iris-setosa', 'Iris-versicolor', 'Iris-virginica']\n",
    "colors = ['r', 'g', 'b']\n",
    "for target, color in zip(targets,colors):\n",
    "    indicesToKeep = finalDf['target'] == target\n",
    "    ax.scatter(finalDf.loc[indicesToKeep, 'principal component 1']\n",
    "               , finalDf.loc[indicesToKeep, 'principal component 2']\n",
    "               , c = color\n",
    "               , s = 50)\n",
    "ax.legend(targets)\n",
    "ax.grid()"
   ]
  },
  {
   "cell_type": "code",
   "execution_count": 9,
   "id": "a00c8e7b",
   "metadata": {},
   "outputs": [],
   "source": [
    "from sklearn.manifold import MDS\n",
    "model = MDS()\n",
    "principalComponents = model.fit_transform(x)\n",
    "principalDf = pd.DataFrame(data = principalComponents\n",
    "             , columns = ['principal component 1', 'principal component 2'])"
   ]
  },
  {
   "cell_type": "code",
   "execution_count": 10,
   "id": "f0c1bf58",
   "metadata": {},
   "outputs": [
    {
     "data": {
      "text/html": [
       "<div>\n",
       "<style scoped>\n",
       "    .dataframe tbody tr th:only-of-type {\n",
       "        vertical-align: middle;\n",
       "    }\n",
       "\n",
       "    .dataframe tbody tr th {\n",
       "        vertical-align: top;\n",
       "    }\n",
       "\n",
       "    .dataframe thead th {\n",
       "        text-align: right;\n",
       "    }\n",
       "</style>\n",
       "<table border=\"1\" class=\"dataframe\">\n",
       "  <thead>\n",
       "    <tr style=\"text-align: right;\">\n",
       "      <th></th>\n",
       "      <th>principal component 1</th>\n",
       "      <th>principal component 2</th>\n",
       "    </tr>\n",
       "  </thead>\n",
       "  <tbody>\n",
       "    <tr>\n",
       "      <th>0</th>\n",
       "      <td>-1.884452</td>\n",
       "      <td>-1.380252</td>\n",
       "    </tr>\n",
       "    <tr>\n",
       "      <th>1</th>\n",
       "      <td>-0.869688</td>\n",
       "      <td>-2.022668</td>\n",
       "    </tr>\n",
       "    <tr>\n",
       "      <th>2</th>\n",
       "      <td>-1.328658</td>\n",
       "      <td>-2.005221</td>\n",
       "    </tr>\n",
       "    <tr>\n",
       "      <th>3</th>\n",
       "      <td>-1.085209</td>\n",
       "      <td>-2.138862</td>\n",
       "    </tr>\n",
       "    <tr>\n",
       "      <th>4</th>\n",
       "      <td>-2.093015</td>\n",
       "      <td>-1.368529</td>\n",
       "    </tr>\n",
       "    <tr>\n",
       "      <th>...</th>\n",
       "      <td>...</td>\n",
       "      <td>...</td>\n",
       "    </tr>\n",
       "    <tr>\n",
       "      <th>145</th>\n",
       "      <td>0.905383</td>\n",
       "      <td>1.720404</td>\n",
       "    </tr>\n",
       "    <tr>\n",
       "      <th>146</th>\n",
       "      <td>1.745728</td>\n",
       "      <td>0.565750</td>\n",
       "    </tr>\n",
       "    <tr>\n",
       "      <th>147</th>\n",
       "      <td>0.792762</td>\n",
       "      <td>1.338658</td>\n",
       "    </tr>\n",
       "    <tr>\n",
       "      <th>148</th>\n",
       "      <td>-0.149532</td>\n",
       "      <td>1.901921</td>\n",
       "    </tr>\n",
       "    <tr>\n",
       "      <th>149</th>\n",
       "      <td>0.606213</td>\n",
       "      <td>0.746692</td>\n",
       "    </tr>\n",
       "  </tbody>\n",
       "</table>\n",
       "<p>150 rows × 2 columns</p>\n",
       "</div>"
      ],
      "text/plain": [
       "     principal component 1  principal component 2\n",
       "0                -1.884452              -1.380252\n",
       "1                -0.869688              -2.022668\n",
       "2                -1.328658              -2.005221\n",
       "3                -1.085209              -2.138862\n",
       "4                -2.093015              -1.368529\n",
       "..                     ...                    ...\n",
       "145               0.905383               1.720404\n",
       "146               1.745728               0.565750\n",
       "147               0.792762               1.338658\n",
       "148              -0.149532               1.901921\n",
       "149               0.606213               0.746692\n",
       "\n",
       "[150 rows x 2 columns]"
      ]
     },
     "execution_count": 10,
     "metadata": {},
     "output_type": "execute_result"
    }
   ],
   "source": [
    "principalDf"
   ]
  },
  {
   "cell_type": "code",
   "execution_count": 11,
   "id": "9f224579",
   "metadata": {},
   "outputs": [],
   "source": [
    "finalDf = pd.concat([principalDf, df[['target']]], axis = 1)"
   ]
  },
  {
   "cell_type": "code",
   "execution_count": 12,
   "id": "78a1b341",
   "metadata": {},
   "outputs": [
    {
     "data": {
      "image/png": "[encoded data removed]",
      "text/plain": [
       "<Figure size 576x576 with 1 Axes>"
      ]
     },
     "metadata": {
      "needs_background": "light"
     },
     "output_type": "display_data"
    }
   ],
   "source": [
    "import matplotlib.pyplot as plt\n",
    "fig = plt.figure(figsize = (8,8))\n",
    "ax = fig.add_subplot(1,1,1) \n",
    "ax.set_xlabel('Principal Component 1', fontsize = 15)\n",
    "ax.set_ylabel('Principal Component 2', fontsize = 15)\n",
    "ax.set_title('2 component Mds', fontsize = 20)\n",
    "targets = ['Iris-setosa', 'Iris-versicolor', 'Iris-virginica']\n",
    "colors = ['r', 'g', 'b']\n",
    "for target, color in zip(targets,colors):\n",
    "    indicesToKeep = finalDf['target'] == target\n",
    "    ax.scatter(finalDf.loc[indicesToKeep, 'principal component 1']\n",
    "               , finalDf.loc[indicesToKeep, 'principal component 2']\n",
    "               , c = color\n",
    "               , s = 50)\n",
    "ax.legend(targets)\n",
    "ax.grid()"
   ]
  },
  {
   "cell_type": "code",
   "execution_count": null,
   "id": "3e89c7ba",
   "metadata": {},
   "outputs": [],
   "source": []
  },
  {
   "cell_type": "code",
   "execution_count": 16,
   "id": "6a1bb83c",
   "metadata": {},
   "outputs": [],
   "source": [
    "def make_hello(N=1000, rseed=42):\n",
    "    # Make a plot with \"HELLO\" text; save as PNG\n",
    "    fig, ax = plt.subplots(figsize=(4, 1))\n",
    "    fig.subplots_adjust(left=0, right=1, bottom=0, top=1)\n",
    "    ax.axis('off')\n",
    "    ax.text(0.5, 0.4, 'HELLO', va='center', ha='center', weight='bold', size=85)\n",
    "    fig.savefig('hello.png')\n",
    "    plt.close(fig)\n",
    "\n",
    "    # Open this PNG and draw random points from it\n",
    "    from matplotlib.image import imread\n",
    "    data = imread('hello.png')[::-1, :, 0].T\n",
    "    rng = np.random.RandomState(rseed)\n",
    "    X = rng.rand(4 * N, 2)\n",
    "    i, j = (X * data.shape).astype(int).T\n",
    "    mask = (data[i, j] < 1)\n",
    "    X = X[mask]\n",
    "    X[:, 0] *= (data.shape[0] / data.shape[1])\n",
    "    X = X[:N]\n",
    "    return X[np.argsort(X[:, 0])]\n",
    "\n"
   ]
  },
  {
   "cell_type": "code",
   "execution_count": 18,
   "id": "d9bb4906",
   "metadata": {},
   "outputs": [],
   "source": [
    "x = make_hello()"
   ]
  },
  {
   "cell_type": "code",
   "execution_count": null,
   "id": "8ebb81b5",
   "metadata": {},
   "outputs": [],
   "source": [
    "ax = plt.axes()\n",
    "ax.scatter(x[:,0], ydata, zdata, c=zdata, cmap='Greens');\n"
   ]
  },
  {
   "cell_type": "code",
   "execution_count": null,
   "id": "a710d8ed",
   "metadata": {},
   "outputs": [],
   "source": []
  }
 ],
 "metadata": {
  "kernelspec": {
   "display_name": "Python 3",
   "language": "python",
   "name": "python3"
  },
  "language_info": {
   "codemirror_mode": {
    "name": "ipython",
    "version": 3
   },
   "file_extension": ".py",
   "mimetype": "text/x-python",
   "name": "python",
   "nbconvert_exporter": "python",
   "pygments_lexer": "ipython3",
   "version": "3.8.8"
  }
 },
 "nbformat": 4,
 "nbformat_minor": 5
}
