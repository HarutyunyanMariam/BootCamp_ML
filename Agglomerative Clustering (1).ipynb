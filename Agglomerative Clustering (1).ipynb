{
 "cells": [
  {
   "cell_type": "code",
   "execution_count": 1,
   "id": "a6c90309",
   "metadata": {},
   "outputs": [],
   "source": [
    "import numpy as np\n",
    "from sklearn.metrics import pairwise_distances\n",
    "from tqdm import tqdm"
   ]
  },
  {
   "cell_type": "code",
   "execution_count": 2,
   "id": "ee2f5f50",
   "metadata": {},
   "outputs": [],
   "source": [
    "class AgglomerativeClustering:\n",
    "    def __init__(self, n_clusters=2, threshold=100, linkage='average'):\n",
    "        # linkage can be one of {'average', 'complete', 'single'}\n",
    "        # if linkage value is higher than treshold the split is not being done\n",
    "        self.n_clusters = n_clusters\n",
    "        self.threshold = threshold\n",
    "        self.linkage = linkage\n",
    "        \n",
    "    def fit_predict(self, X):\n",
    "        # step 1. Consider all elements as a separate cluster\n",
    "        # step 2. Calculate distance between each 2 clusters based on linkage method\n",
    "        # step 3. Merge 2 closest clusters into single one, if their distance is lower than threshold\n",
    "        # step 4. Repeat steps 2 and 3 while distance between 2 closes clusters is lower than threshold\n",
    "        # Additional: If n_clusters is set to any integer, stop iterations when number of clusters is reached\n",
    "        \n",
    "        clusters = [[x] for x in range(len(X))]       \n",
    "        while len(clusters) > self.n_clusters:\n",
    "            dist_mtrx = np.zeros((len(clusters), len(clusters)))\n",
    "            for i in tqdm(range(len(clusters))):\n",
    "                for j in range(i+1, len(clusters)):\n",
    "                    if self.linkage == 'single':\n",
    "                        dist_mtrx[i][j] = np.min(pairwise_distances(X[clusters[i]], X[clusters[j]]))\n",
    "                    elif self.linkage == 'complete':\n",
    "                        dist_mtrx[i][j] = np.max(pairwise_distances(X[clusters[i]], X[clusters[j]]))\n",
    "                    elif self.linkage == 'average':\n",
    "                        dist_mtrx[i][j] = np.mean(pairwise_distances(X[clusters[i]], X[clusters[j]]))\n",
    "                    dist_mtrx[j][i] = dist_mtrx[i][j]\n",
    "                dist_mtrx[i][i] = np.max(dist_mtrx[i])\n",
    "\n",
    "            #min_i, min_j =  np.unravel_index(np.argmin(dist_mtrx), dist_mtrx.shape)\n",
    "            min_i, min_j = np.argmin(dist_mtrx)//len(dist_mtrx), np.argmin(dist_mtrx)%len(dist_mtrx)\n",
    "            \n",
    "            if np.min(dist_mtrx)>self.threshold:\n",
    "                return clusters\n",
    "            \n",
    "            clusters[min_i].extend(clusters[min_j])\n",
    "            del clusters[min_j] \n",
    "        \n",
    "        return clusters"
   ]
  },
  {
   "cell_type": "code",
   "execution_count": 3,
   "id": "8ddcbbfb",
   "metadata": {},
   "outputs": [],
   "source": [
    "from sklearn.datasets import make_blobs\n",
    "X, y_true = make_blobs(n_samples=300, centers=4,\n",
    "                       cluster_std=0.5, random_state=0)"
   ]
  },
  {
   "cell_type": "code",
   "execution_count": 4,
   "id": "0f639bab",
   "metadata": {},
   "outputs": [
    {
     "data": {
      "image/png": "[encoded data removed]",
      "text/plain": [
       "<Figure size 432x288 with 1 Axes>"
      ]
     },
     "metadata": {},
     "output_type": "display_data"
    }
   ],
   "source": [
    "import matplotlib.pyplot as plt\n",
    "import seaborn as sns; sns.set()  # for plot styling\n",
    "import numpy as np\n",
    "\n",
    "from sklearn.datasets import make_blobs\n",
    "X, y_true = make_blobs(n_samples=100, centers=4,\n",
    "                       cluster_std=0.3, random_state=0)\n",
    "plt.scatter(X[:, 0], X[:, 1], s=50);"
   ]
  },
  {
   "cell_type": "code",
   "execution_count": 5,
   "id": "d1fdda6d",
   "metadata": {
    "scrolled": true
   },
   "outputs": [
    {
     "name": "stderr",
     "output_type": "stream",
     "text": [
      "100%|████████████████████████████████████████████████████████████████████████████████| 100/100 [00:02<00:00, 39.70it/s]\n",
      "100%|██████████████████████████████████████████████████████████████████████████████████| 99/99 [00:02<00:00, 38.91it/s]\n",
      "100%|██████████████████████████████████████████████████████████████████████████████████| 98/98 [00:02<00:00, 45.09it/s]\n",
      "100%|██████████████████████████████████████████████████████████████████████████████████| 97/97 [00:01<00:00, 49.22it/s]\n",
      "100%|██████████████████████████████████████████████████████████████████████████████████| 96/96 [00:01<00:00, 51.52it/s]\n",
      "100%|██████████████████████████████████████████████████████████████████████████████████| 95/95 [00:01<00:00, 50.20it/s]\n",
      "100%|██████████████████████████████████████████████████████████████████████████████████| 94/94 [00:01<00:00, 50.09it/s]\n",
      "100%|██████████████████████████████████████████████████████████████████████████████████| 93/93 [00:01<00:00, 51.71it/s]\n",
      "100%|██████████████████████████████████████████████████████████████████████████████████| 92/92 [00:01<00:00, 49.54it/s]\n",
      "100%|██████████████████████████████████████████████████████████████████████████████████| 91/91 [00:01<00:00, 53.54it/s]\n",
      "100%|██████████████████████████████████████████████████████████████████████████████████| 90/90 [00:01<00:00, 51.39it/s]\n",
      "100%|██████████████████████████████████████████████████████████████████████████████████| 89/89 [00:01<00:00, 53.99it/s]\n",
      "100%|██████████████████████████████████████████████████████████████████████████████████| 88/88 [00:01<00:00, 52.64it/s]\n",
      "100%|██████████████████████████████████████████████████████████████████████████████████| 87/87 [00:01<00:00, 57.02it/s]\n",
      "100%|██████████████████████████████████████████████████████████████████████████████████| 86/86 [00:01<00:00, 53.12it/s]\n",
      "100%|██████████████████████████████████████████████████████████████████████████████████| 85/85 [00:01<00:00, 56.41it/s]\n",
      "100%|██████████████████████████████████████████████████████████████████████████████████| 84/84 [00:01<00:00, 53.11it/s]\n",
      "100%|██████████████████████████████████████████████████████████████████████████████████| 83/83 [00:01<00:00, 48.80it/s]\n",
      "100%|██████████████████████████████████████████████████████████████████████████████████| 82/82 [00:01<00:00, 53.82it/s]\n",
      "100%|██████████████████████████████████████████████████████████████████████████████████| 81/81 [00:01<00:00, 49.87it/s]\n",
      "100%|██████████████████████████████████████████████████████████████████████████████████| 80/80 [00:01<00:00, 51.71it/s]\n",
      "100%|██████████████████████████████████████████████████████████████████████████████████| 79/79 [00:01<00:00, 45.74it/s]\n",
      "100%|██████████████████████████████████████████████████████████████████████████████████| 78/78 [00:01<00:00, 52.38it/s]\n",
      "100%|██████████████████████████████████████████████████████████████████████████████████| 77/77 [00:01<00:00, 51.63it/s]\n",
      "100%|██████████████████████████████████████████████████████████████████████████████████| 76/76 [00:01<00:00, 47.57it/s]\n",
      "100%|██████████████████████████████████████████████████████████████████████████████████| 75/75 [00:01<00:00, 53.06it/s]\n",
      "100%|██████████████████████████████████████████████████████████████████████████████████| 74/74 [00:01<00:00, 44.90it/s]\n",
      "100%|██████████████████████████████████████████████████████████████████████████████████| 73/73 [00:01<00:00, 42.92it/s]\n",
      "100%|██████████████████████████████████████████████████████████████████████████████████| 72/72 [00:01<00:00, 43.03it/s]\n",
      "100%|██████████████████████████████████████████████████████████████████████████████████| 71/71 [00:01<00:00, 52.68it/s]\n",
      "100%|██████████████████████████████████████████████████████████████████████████████████| 70/70 [00:01<00:00, 50.03it/s]\n",
      "100%|██████████████████████████████████████████████████████████████████████████████████| 69/69 [00:01<00:00, 42.38it/s]\n",
      "100%|██████████████████████████████████████████████████████████████████████████████████| 68/68 [00:01<00:00, 46.50it/s]\n",
      "100%|██████████████████████████████████████████████████████████████████████████████████| 67/67 [00:01<00:00, 59.57it/s]\n",
      "100%|██████████████████████████████████████████████████████████████████████████████████| 66/66 [00:00<00:00, 66.17it/s]\n",
      "100%|██████████████████████████████████████████████████████████████████████████████████| 65/65 [00:00<00:00, 67.62it/s]\n",
      "100%|██████████████████████████████████████████████████████████████████████████████████| 64/64 [00:00<00:00, 69.07it/s]\n",
      "100%|██████████████████████████████████████████████████████████████████████████████████| 63/63 [00:00<00:00, 75.71it/s]\n",
      "100%|██████████████████████████████████████████████████████████████████████████████████| 62/62 [00:00<00:00, 76.83it/s]\n",
      "100%|██████████████████████████████████████████████████████████████████████████████████| 61/61 [00:00<00:00, 69.88it/s]\n",
      "100%|██████████████████████████████████████████████████████████████████████████████████| 60/60 [00:00<00:00, 75.17it/s]\n",
      "100%|██████████████████████████████████████████████████████████████████████████████████| 59/59 [00:00<00:00, 77.67it/s]\n",
      "100%|██████████████████████████████████████████████████████████████████████████████████| 58/58 [00:00<00:00, 78.82it/s]\n",
      "100%|██████████████████████████████████████████████████████████████████████████████████| 57/57 [00:00<00:00, 79.52it/s]\n",
      "100%|██████████████████████████████████████████████████████████████████████████████████| 56/56 [00:00<00:00, 81.31it/s]\n",
      "100%|██████████████████████████████████████████████████████████████████████████████████| 55/55 [00:00<00:00, 75.25it/s]\n",
      "100%|██████████████████████████████████████████████████████████████████████████████████| 54/54 [00:00<00:00, 79.59it/s]\n",
      "100%|██████████████████████████████████████████████████████████████████████████████████| 53/53 [00:00<00:00, 82.70it/s]\n",
      "100%|██████████████████████████████████████████████████████████████████████████████████| 52/52 [00:00<00:00, 82.79it/s]\n",
      "100%|██████████████████████████████████████████████████████████████████████████████████| 51/51 [00:00<00:00, 93.79it/s]\n",
      "100%|██████████████████████████████████████████████████████████████████████████████████| 50/50 [00:00<00:00, 95.65it/s]\n",
      "100%|██████████████████████████████████████████████████████████████████████████████████| 49/49 [00:00<00:00, 91.82it/s]\n",
      "100%|██████████████████████████████████████████████████████████████████████████████████| 48/48 [00:00<00:00, 83.65it/s]\n",
      "100%|██████████████████████████████████████████████████████████████████████████████████| 47/47 [00:00<00:00, 98.05it/s]\n",
      "100%|██████████████████████████████████████████████████████████████████████████████████| 46/46 [00:00<00:00, 97.64it/s]\n",
      "100%|██████████████████████████████████████████████████████████████████████████████████| 45/45 [00:00<00:00, 85.64it/s]\n",
      "100%|█████████████████████████████████████████████████████████████████████████████████| 44/44 [00:00<00:00, 102.23it/s]\n",
      "100%|█████████████████████████████████████████████████████████████████████████████████| 43/43 [00:00<00:00, 111.23it/s]\n",
      "100%|█████████████████████████████████████████████████████████████████████████████████| 42/42 [00:00<00:00, 115.93it/s]\n",
      "100%|█████████████████████████████████████████████████████████████████████████████████| 41/41 [00:00<00:00, 113.49it/s]\n",
      "100%|█████████████████████████████████████████████████████████████████████████████████| 40/40 [00:00<00:00, 123.42it/s]\n",
      "100%|█████████████████████████████████████████████████████████████████████████████████| 39/39 [00:00<00:00, 127.03it/s]\n",
      "100%|█████████████████████████████████████████████████████████████████████████████████| 38/38 [00:00<00:00, 116.40it/s]\n",
      "100%|█████████████████████████████████████████████████████████████████████████████████| 37/37 [00:00<00:00, 135.92it/s]\n",
      "100%|█████████████████████████████████████████████████████████████████████████████████| 36/36 [00:00<00:00, 123.62it/s]\n",
      "100%|█████████████████████████████████████████████████████████████████████████████████| 35/35 [00:00<00:00, 127.53it/s]\n",
      "100%|█████████████████████████████████████████████████████████████████████████████████| 34/34 [00:00<00:00, 127.82it/s]\n",
      "100%|█████████████████████████████████████████████████████████████████████████████████| 33/33 [00:00<00:00, 130.99it/s]\n"
     ]
    },
    {
     "name": "stderr",
     "output_type": "stream",
     "text": [
      "100%|█████████████████████████████████████████████████████████████████████████████████| 32/32 [00:00<00:00, 158.61it/s]\n",
      "100%|█████████████████████████████████████████████████████████████████████████████████| 31/31 [00:00<00:00, 162.44it/s]\n",
      "100%|█████████████████████████████████████████████████████████████████████████████████| 30/30 [00:00<00:00, 157.06it/s]\n",
      "100%|█████████████████████████████████████████████████████████████████████████████████| 29/29 [00:00<00:00, 176.11it/s]\n",
      "100%|█████████████████████████████████████████████████████████████████████████████████| 28/28 [00:00<00:00, 180.66it/s]\n",
      "100%|█████████████████████████████████████████████████████████████████████████████████| 27/27 [00:00<00:00, 161.73it/s]\n",
      "100%|█████████████████████████████████████████████████████████████████████████████████| 26/26 [00:00<00:00, 199.13it/s]\n",
      "100%|█████████████████████████████████████████████████████████████████████████████████| 25/25 [00:00<00:00, 167.11it/s]\n",
      "100%|█████████████████████████████████████████████████████████████████████████████████| 24/24 [00:00<00:00, 160.31it/s]\n",
      "100%|█████████████████████████████████████████████████████████████████████████████████| 23/23 [00:00<00:00, 173.97it/s]\n",
      "100%|█████████████████████████████████████████████████████████████████████████████████| 22/22 [00:00<00:00, 204.42it/s]\n",
      "100%|█████████████████████████████████████████████████████████████████████████████████| 21/21 [00:00<00:00, 211.90it/s]\n",
      "100%|█████████████████████████████████████████████████████████████████████████████████| 20/20 [00:00<00:00, 221.54it/s]\n",
      "100%|█████████████████████████████████████████████████████████████████████████████████| 19/19 [00:00<00:00, 253.63it/s]\n",
      "100%|█████████████████████████████████████████████████████████████████████████████████| 18/18 [00:00<00:00, 215.52it/s]\n",
      "100%|█████████████████████████████████████████████████████████████████████████████████| 17/17 [00:00<00:00, 256.43it/s]\n",
      "100%|█████████████████████████████████████████████████████████████████████████████████| 16/16 [00:00<00:00, 242.94it/s]\n",
      "100%|█████████████████████████████████████████████████████████████████████████████████| 15/15 [00:00<00:00, 252.21it/s]\n",
      "100%|█████████████████████████████████████████████████████████████████████████████████| 14/14 [00:00<00:00, 274.52it/s]\n",
      "100%|█████████████████████████████████████████████████████████████████████████████████| 13/13 [00:00<00:00, 283.15it/s]\n",
      "100%|█████████████████████████████████████████████████████████████████████████████████| 12/12 [00:00<00:00, 296.51it/s]\n",
      "100%|█████████████████████████████████████████████████████████████████████████████████| 11/11 [00:00<00:00, 345.27it/s]\n",
      "100%|█████████████████████████████████████████████████████████████████████████████████| 10/10 [00:00<00:00, 418.14it/s]\n",
      "100%|███████████████████████████████████████████████████████████████████████████████████| 9/9 [00:00<00:00, 358.50it/s]\n",
      "100%|███████████████████████████████████████████████████████████████████████████████████| 8/8 [00:00<00:00, 309.32it/s]\n",
      "100%|███████████████████████████████████████████████████████████████████████████████████| 7/7 [00:00<00:00, 407.65it/s]\n",
      "100%|███████████████████████████████████████████████████████████████████████████████████| 6/6 [00:00<00:00, 365.13it/s]\n",
      "100%|███████████████████████████████████████████████████████████████████████████████████| 5/5 [00:00<00:00, 317.94it/s]\n",
      "100%|███████████████████████████████████████████████████████████████████████████████████| 4/4 [00:00<00:00, 373.54it/s]\n"
     ]
    }
   ],
   "source": [
    "agg_clustering = AgglomerativeClustering(n_clusters=2, threshold=2)\n",
    "clusters = agg_clustering.fit_predict(X)"
   ]
  },
  {
   "cell_type": "code",
   "execution_count": 6,
   "id": "cbac5a0c",
   "metadata": {},
   "outputs": [],
   "source": [
    "c = np.zeros(len(X))\n",
    "for i in range(len(clusters)):\n",
    "    c[clusters[i]] = i"
   ]
  },
  {
   "cell_type": "code",
   "execution_count": 7,
   "id": "785b68e6",
   "metadata": {},
   "outputs": [
    {
     "data": {
      "text/plain": [
       "<matplotlib.collections.PathCollection at 0x1d121c6f3a0>"
      ]
     },
     "execution_count": 7,
     "metadata": {},
     "output_type": "execute_result"
    },
    {
     "data": {
      "image/png": "[encoded data removed]",
      "text/plain": [
       "<Figure size 432x288 with 1 Axes>"
      ]
     },
     "metadata": {},
     "output_type": "display_data"
    }
   ],
   "source": [
    "plt.scatter(X[:, 0], X[:, 1], c=c, s=50, cmap='viridis')"
   ]
  },
  {
   "cell_type": "code",
   "execution_count": null,
   "id": "4b874ef3",
   "metadata": {},
   "outputs": [],
   "source": []
  }
 ],
 "metadata": {
  "kernelspec": {
   "display_name": "Python 3",
   "language": "python",
   "name": "python3"
  },
  "language_info": {
   "codemirror_mode": {
    "name": "ipython",
    "version": 3
   },
   "file_extension": ".py",
   "mimetype": "text/x-python",
   "name": "python",
   "nbconvert_exporter": "python",
   "pygments_lexer": "ipython3",
   "version": "3.8.8"
  }
 },
 "nbformat": 4,
 "nbformat_minor": 5
}
